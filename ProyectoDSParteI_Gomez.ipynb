{
 "cells": [
  {
   "cell_type": "markdown",
   "id": "21076e63",
   "metadata": {},
   "source": [
    "\n",
    "### Abstract\n",
    "\n",
    "Este proyecto explora los determinantes del rendimiento de los bonos soberanos argentinos, centrándose en tres dimensiones clave: el riesgo país (EMBI+), la calificación crediticia y la duración del bono. Se utiliza un dataset simulado basado en bonos reales como AL30, GD30 y AE38, incluyendo variables como legislación aplicable, moneda de emisión, tasas de interés y características estructurales del bono. La hipótesis central es que factores como un mayor riesgo país, menor calificación y plazos más largos se asocian con una mayor TIR (Tasa Interna de Retorno). A través de análisis exploratorios, gráficos multivariados y resúmenes numéricos, se busca contrastar estas hipótesis y comprender cómo se forman los precios de los bonos en un contexto de alta incertidumbre económica e institucional. Este trabajo representa un primer avance en el análisis visual y cuantitativo del mercado de deuda soberana argentina.\n"
   ]
  },
  {
   "cell_type": "markdown",
   "id": "ba98b7fc",
   "metadata": {},
   "source": [
    "\n",
    "### Hipótesis\n",
    "\n",
    "1. **H1:** A mayor riesgo país, mayor rendimiento exigido (TIR) en los bonos soberanos argentinos.\n",
    "2. **H2:** Los bonos con menor calificación crediticia presentan mayores tasas internas de retorno.\n",
    "3. **H3:** Los bonos con mayor duración tienen mayores TIR, especialmente si están bajo legislación local.\n"
   ]
  },
  {
   "cell_type": "code",
   "execution_count": null,
   "id": "23781b7e",
   "metadata": {},
   "outputs": [],
   "source": [
    "\n",
    "import pandas as pd\n",
    "import seaborn as sns\n",
    "import matplotlib.pyplot as plt\n",
    "\n",
    "# Cargar dataset\n",
    "df = pd.read_csv('bonos_argentinos_simulado.csv')\n",
    "\n",
    "# Primer vistazo\n",
    "df.head()\n"
   ]
  },
  {
   "cell_type": "code",
   "execution_count": null,
   "id": "a4e0abc7",
   "metadata": {},
   "outputs": [],
   "source": [
    "\n",
    "# Revisión de valores perdidos\n",
    "df.isnull().sum()\n"
   ]
  },
  {
   "cell_type": "code",
   "execution_count": null,
   "id": "8300dd86",
   "metadata": {},
   "outputs": [],
   "source": [
    "\n",
    "# Hipótesis 1: Riesgo país vs TIR\n",
    "sns.scatterplot(data=df, x='riesgo_pais', y='tir')\n",
    "plt.title('Relación entre Riesgo País y TIR')\n",
    "plt.xlabel('Riesgo País (EMBI+)')\n",
    "plt.ylabel('Tasa Interna de Retorno (TIR)')\n",
    "plt.grid(True)\n",
    "plt.show()\n"
   ]
  },
  {
   "cell_type": "code",
   "execution_count": null,
   "id": "4b9e09f4",
   "metadata": {},
   "outputs": [],
   "source": [
    "\n",
    "# Hipótesis 2: Rating vs TIR\n",
    "sns.boxplot(data=df, x='rating', y='tir', order=['D', 'RD', 'C', 'CC', 'CCC'])\n",
    "plt.title('TIR según Calificación Crediticia')\n",
    "plt.xlabel('Rating')\n",
    "plt.ylabel('TIR')\n",
    "plt.grid(True)\n",
    "plt.show()\n"
   ]
  },
  {
   "cell_type": "code",
   "execution_count": null,
   "id": "5956ae86",
   "metadata": {},
   "outputs": [],
   "source": [
    "\n",
    "# Hipótesis 3: Duración vs TIR según Legislación\n",
    "sns.lmplot(data=df, x='duracion', y='tir', hue='legislacion', aspect=1.5)\n",
    "plt.title('Duración vs TIR por Legislación')\n",
    "plt.xlabel('Duración (años)')\n",
    "plt.ylabel('TIR')\n",
    "plt.grid(True)\n",
    "plt.show()\n"
   ]
  }
 ],
 "metadata": {},
 "nbformat": 4,
 "nbformat_minor": 5
}
